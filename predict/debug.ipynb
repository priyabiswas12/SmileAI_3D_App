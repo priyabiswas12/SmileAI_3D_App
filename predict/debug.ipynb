{
 "cells": [
  {
   "cell_type": "code",
   "execution_count": 2,
   "metadata": {},
   "outputs": [],
   "source": [
    "import streamlit as st\n",
    "import os\n",
    "import tempfile\n",
    "from vedo import load, screenshot, show\n"
   ]
  },
  {
   "cell_type": "code",
   "execution_count": 87,
   "metadata": {},
   "outputs": [],
   "source": [
    "base_name =\"21 LowerJawScan\"\n",
    "vtp_path = os.path.join(\"uploads/lower\", base_name + \".vtp\")\n",
    "ply_path = os.path.join(\"uploads/lower/processed\", base_name + \".ply\")"
   ]
  },
  {
   "cell_type": "code",
   "execution_count": 88,
   "metadata": {},
   "outputs": [],
   "source": [
    "import os\n",
    "import numpy as np\n",
    "import open3d as o3d\n",
    "import tensorflow as tf\n",
    "from vedo import load, write\n",
    "import copy\n",
    "\n",
    "INCISOR_LABELS = [ 6, 7, 8, 9]\n",
    "TOOTH_NAMES = {\n",
    "    #5: \"Left Canine (5)\",\n",
    "    6: \"Left Lateral (6)\",\n",
    "    7: \"Left Central (7)\",\n",
    "    8: \"Right Central (8)\",\n",
    "    9: \"Right Lateral (9)\",\n",
    "    #10: \"Right Canine (10)\",\n",
    "}\n",
    "\n",
    "def load_model(model_path=\"predict/models/gumrecession_model_incisors.h5\"):\n",
    "    print(f\"🔄 Loading model from: {model_path}\")\n",
    "    return tf.keras.models.load_model(model_path)\n",
    "\n",
    "def get_toothface_gums(vtp_mesh, label_no):\n",
    "    label = vtp_mesh.celldata['Label']\n",
    "    faces = vtp_mesh.cells\n",
    "    ind = np.where(label == label_no)[0].tolist()\n",
    "\n",
    "    new_face = [faces[i] for i in ind]\n",
    "\n",
    "    cutmesh = vtp_mesh.clone().threshold(\"Label\", above=label_no - 0.1, below=label_no + 0.1, on='cells')\n",
    "    if cutmesh.vertices.size == 0:\n",
    "        return []\n",
    "\n",
    "    xmax, ymax, zmax = cutmesh.vertices.max(axis=0)\n",
    "    xmin, ymin, zmin = cutmesh.vertices.min(axis=0)\n",
    "\n",
    "    m_xmax, m_ymax, m_zmax = vtp_mesh.vertices.max(axis=0)\n",
    "    m_xmin, m_ymin, m_zmin = vtp_mesh.vertices.min(axis=0)\n",
    "\n",
    "    x_b = (xmin, xmax)\n",
    "    y_b = (m_ymin, m_ymax)\n",
    "    z_b = (m_zmin, zmax)\n",
    "\n",
    "    z_ids = vtp_mesh.find_cells_in_bounds(zbounds=z_b)\n",
    "    y_ids = vtp_mesh.find_cells_in_bounds(ybounds=y_b)\n",
    "    x_ids = vtp_mesh.find_cells_in_bounds(xbounds=x_b)\n",
    "\n",
    "    inter = list(set(z_ids) & set(y_ids) & set(x_ids))\n",
    "    new_face += [faces[i] for i in inter]\n",
    "    return new_face\n",
    "\n",
    "def extract_teeth_with_gums(vtp_path, ply_path, save_to=\"uploads/lower/debug\"):\n",
    "    print(f\"🔍 Loading VTP: {vtp_path}\")\n",
    "    print(f\"🔍 Loading PLY: {ply_path}\")\n",
    "\n",
    "    pred_mesh = load(vtp_path)\n",
    "    full_mesh = o3d.io.read_triangle_mesh(ply_path)\n",
    "\n",
    "    meshes_by_label = {}\n",
    "    os.makedirs(save_to, exist_ok=True)\n",
    "\n",
    "    for label in INCISOR_LABELS:\n",
    "        print(f\"✂️ Extracting Tooth {label} with surrounding tissue...\")\n",
    "        tooth_faces = get_toothface_gums(pred_mesh, label)\n",
    "        if not tooth_faces:\n",
    "            meshes_by_label[label] = None\n",
    "            print(f\"⚠️ Tooth {label} not found\")\n",
    "            continue\n",
    "\n",
    "        mesh_cropped = copy.deepcopy(full_mesh)\n",
    "        mesh_cropped.triangles = o3d.utility.Vector3iVector(np.asarray(tooth_faces))\n",
    "        debug_path = os.path.join(save_to, f\"tooth_{label}.ply\")\n",
    "        o3d.io.write_triangle_mesh(debug_path, mesh_cropped)\n",
    "        print(f\"💾 Saved to: {debug_path}\")\n",
    "        pcd = o3d.geometry.PointCloud()\n",
    "        pcd.points = mesh_cropped.vertices\n",
    "        # Optional: transfer colors if available\n",
    "        if mesh_cropped.has_vertex_colors():\n",
    "            pcd.colors = mesh_cropped.vertex_colors\n",
    "        meshes_by_label[label] = pcd\n",
    "        #meshes_by_label[label] = mesh_cropped\n",
    "\n",
    "    return meshes_by_label\n"
   ]
  },
  {
   "cell_type": "code",
   "execution_count": 89,
   "metadata": {},
   "outputs": [
    {
     "name": "stdout",
     "output_type": "stream",
     "text": [
      "🔍 Loading VTP: uploads/lower\\21 LowerJawScan.vtp\n",
      "🔍 Loading PLY: uploads/lower/processed\\21 LowerJawScan.ply\n",
      "✂️ Extracting Tooth 6 with surrounding tissue...\n",
      "💾 Saved to: uploads/lower/debug\\tooth_6.ply\n",
      "✂️ Extracting Tooth 7 with surrounding tissue...\n",
      "💾 Saved to: uploads/lower/debug\\tooth_7.ply\n",
      "✂️ Extracting Tooth 8 with surrounding tissue...\n",
      "💾 Saved to: uploads/lower/debug\\tooth_8.ply\n",
      "✂️ Extracting Tooth 9 with surrounding tissue...\n",
      "💾 Saved to: uploads/lower/debug\\tooth_9.ply\n"
     ]
    }
   ],
   "source": [
    "debug_folder = \"uploads/lower/debug\"\n",
    "meshes = extract_teeth_with_gums(vtp_path, ply_path, save_to=debug_folder)"
   ]
  },
  {
   "cell_type": "code",
   "execution_count": 90,
   "metadata": {},
   "outputs": [
    {
     "data": {
      "text/plain": [
       "open3d.cpu.pybind.geometry.PointCloud"
      ]
     },
     "execution_count": 90,
     "metadata": {},
     "output_type": "execute_result"
    }
   ],
   "source": [
    "type(meshes[6])"
   ]
  },
  {
   "cell_type": "code",
   "execution_count": 91,
   "metadata": {},
   "outputs": [
    {
     "data": {
      "text/plain": [
       "4"
      ]
     },
     "execution_count": 91,
     "metadata": {},
     "output_type": "execute_result"
    }
   ],
   "source": [
    "len(meshes)"
   ]
  },
  {
   "cell_type": "code",
   "execution_count": 92,
   "metadata": {},
   "outputs": [
    {
     "data": {
      "text/plain": [
       "PointCloud with 5331 points."
      ]
     },
     "execution_count": 92,
     "metadata": {},
     "output_type": "execute_result"
    }
   ],
   "source": [
    "meshes[6]"
   ]
  },
  {
   "cell_type": "code",
   "execution_count": 93,
   "metadata": {},
   "outputs": [],
   "source": [
    "\n",
    "mesh=meshes[6]"
   ]
  },
  {
   "cell_type": "code",
   "execution_count": 94,
   "metadata": {},
   "outputs": [
    {
     "data": {
      "text/plain": [
       "std::vector<Eigen::Vector3d> with 5331 elements.\n",
       "Use numpy.asarray() to access data."
      ]
     },
     "execution_count": 94,
     "metadata": {},
     "output_type": "execute_result"
    }
   ],
   "source": [
    "meshes[6].colors"
   ]
  },
  {
   "cell_type": "code",
   "execution_count": 95,
   "metadata": {},
   "outputs": [],
   "source": [
    "#mesh.compute_vertex_normals()\n",
    "\n",
    "# Visualize it\n",
    "o3d.visualization.draw_geometries([meshes[6]], window_name=\"PLY Viewer\")"
   ]
  },
  {
   "cell_type": "code",
   "execution_count": 96,
   "metadata": {},
   "outputs": [],
   "source": [
    "def load_model(model_path=\"models/gumrecession_model_incisors.h5\"):\n",
    "    print(f\"🔄 Loading model from: {model_path}\")\n",
    "    return tf.keras.models.load_model(model_path)"
   ]
  },
  {
   "cell_type": "code",
   "execution_count": 97,
   "metadata": {},
   "outputs": [
    {
     "name": "stdout",
     "output_type": "stream",
     "text": [
      "🔄 Loading model from: models/gumrecession_model_incisors.h5\n"
     ]
    }
   ],
   "source": [
    "model = load_model()"
   ]
  },
  {
   "cell_type": "code",
   "execution_count": 98,
   "metadata": {},
   "outputs": [],
   "source": [
    "def preprocess_mesh_for_classification(mesh, num_points=5000):\n",
    "    #pcd = o3d.geometry.PointCloud()\n",
    "    #pcd.points = mesh.vertices if hasattr(mesh, 'vertices') else mesh.points\n",
    "    pcd = mesh\n",
    "    #print(mesh)\n",
    "\n",
    "    if len(pcd.points) < num_points:\n",
    "        print(f\"⚠️ Not enough points in mesh: {len(pcd.points)}\")\n",
    "        return None\n",
    "\n",
    "    #downpcd = pcd.uniform_down_sample(max(1, len(pcd.points) // num_points))\n",
    "    downpcd = pcd.farthest_point_down_sample(5000)\n",
    "    #if len(downpcd.points) > num_points:\n",
    "        #downpcd = o3d.geometry.PointCloud()\n",
    "        #downpcd.points = o3d.utility.Vector3dVector(np.asarray(pcd.points)[:num_points])\n",
    "\n",
    "    colors=np.asarray(downpcd.colors)\n",
    "    print(colors.shape)\n",
    "    points = downpcd.points - np.mean(downpcd.points, axis=0)# Centralise points\n",
    "    #points = np.asarray(downpcd.points)\n",
    "    points = points / np.max(np.linalg.norm(points, axis=1)) # Nomralise points \n",
    "    points=np.asarray(points)\n",
    "    print(points.shape)\n",
    "    #points = points - points.mean(axis=0)\n",
    "    #points = points / np.max(np.linalg.norm(points, axis=1))\n",
    "    #colors = np.zeros_like(points)\n",
    "    array = np.concatenate((colors, points), axis=1)\n",
    "    return array"
   ]
  },
  {
   "cell_type": "code",
   "execution_count": 99,
   "metadata": {},
   "outputs": [],
   "source": [
    "def predict_gum_recession(meshes_by_label, model):\n",
    "    results = {}\n",
    "    for label in INCISOR_LABELS:\n",
    "        print(f\"\\n🦷 Predicting for tooth {label} ({TOOTH_NAMES[label]})...\")\n",
    "        mesh = meshes_by_label.get(label)\n",
    "        if mesh is None:\n",
    "            results[label] = \"❌ Not found\"\n",
    "            continue\n",
    "\n",
    "        print(\"🔍 Preprocessing tooth mesh...\")\n",
    "        array = preprocess_mesh_for_classification(mesh)\n",
    "        if array is None or array.shape[0] < 500:\n",
    "            results[label] = \"⚠️ Insufficient points\"\n",
    "            continue\n",
    "\n",
    "        prediction = model.predict(array[np.newaxis, :, :])[0][0]\n",
    "        print(prediction)\n",
    "        results[label] = \"✅ Present\" if prediction >= 0.5 else \"🟢 Absent\"\n",
    "    return results"
   ]
  },
  {
   "cell_type": "code",
   "execution_count": 100,
   "metadata": {},
   "outputs": [
    {
     "name": "stdout",
     "output_type": "stream",
     "text": [
      "(5000, 3)\n",
      "(5000, 3)\n"
     ]
    },
    {
     "data": {
      "text/plain": [
       "array([[ 0.56470588,  0.41960784,  0.39215686,  0.42891206, -0.35342451,\n",
       "        -0.43977056],\n",
       "       [ 0.54901961,  0.40392157,  0.38039216,  0.43505485, -0.34872041,\n",
       "        -0.45144927],\n",
       "       [ 0.57254902,  0.41568627,  0.38431373,  0.43671856, -0.34144004,\n",
       "        -0.42170593],\n",
       "       ...,\n",
       "       [ 0.63529412,  0.47843137,  0.48235294,  0.3856192 , -0.27489826,\n",
       "        -0.20898518],\n",
       "       [ 0.63529412,  0.47843137,  0.48235294,  0.48063763, -0.24835366,\n",
       "        -0.68181503],\n",
       "       [ 0.63529412,  0.47843137,  0.48235294, -0.25216674, -0.14307584,\n",
       "        -0.15214299]])"
      ]
     },
     "execution_count": 100,
     "metadata": {},
     "output_type": "execute_result"
    }
   ],
   "source": [
    "preprocess_mesh_for_classification(meshes[7], num_points=5000)"
   ]
  },
  {
   "cell_type": "code",
   "execution_count": 101,
   "metadata": {},
   "outputs": [
    {
     "name": "stdout",
     "output_type": "stream",
     "text": [
      "(5000, 3)\n",
      "(5000, 3)\n"
     ]
    }
   ],
   "source": [
    "array = preprocess_mesh_for_classification(meshes[6])"
   ]
  },
  {
   "cell_type": "code",
   "execution_count": 102,
   "metadata": {},
   "outputs": [
    {
     "name": "stdout",
     "output_type": "stream",
     "text": [
      "1/1 [==============================] - 0s 49ms/step\n",
      "0.9977261\n"
     ]
    }
   ],
   "source": [
    "prediction = model.predict(array[np.newaxis, :, :])[0][0]\n",
    "print(prediction)"
   ]
  },
  {
   "cell_type": "code",
   "execution_count": null,
   "metadata": {},
   "outputs": [],
   "source": []
  },
  {
   "cell_type": "code",
   "execution_count": null,
   "metadata": {},
   "outputs": [],
   "source": []
  },
  {
   "cell_type": "code",
   "execution_count": null,
   "metadata": {},
   "outputs": [],
   "source": []
  }
 ],
 "metadata": {
  "kernelspec": {
   "display_name": "venv",
   "language": "python",
   "name": "python3"
  },
  "language_info": {
   "codemirror_mode": {
    "name": "ipython",
    "version": 3
   },
   "file_extension": ".py",
   "mimetype": "text/x-python",
   "name": "python",
   "nbconvert_exporter": "python",
   "pygments_lexer": "ipython3",
   "version": "3.9.6"
  }
 },
 "nbformat": 4,
 "nbformat_minor": 2
}
